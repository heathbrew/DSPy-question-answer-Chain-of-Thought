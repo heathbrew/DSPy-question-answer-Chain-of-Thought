{
 "cells": [
  {
   "cell_type": "code",
   "execution_count": 23,
   "id": "fb8d6bb2-37b9-4f96-b845-da42774bc1dd",
   "metadata": {},
   "outputs": [],
   "source": [
    "import dspy\n",
    "# Set up the LM.\n",
    "turbo = dspy.OpenAI(model='gpt-3.5-turbo-instruct', max_tokens=250)\n",
    "dspy.settings.configure(lm=turbo)\n",
    "import os\n",
    "from openaikey import key\n",
    "\n",
    "os.environ[\"OPENAI_API_KEY\"] = str(key())"
   ]
  },
  {
   "cell_type": "code",
   "execution_count": 24,
   "id": "b5235c69-6e8c-47ce-8c4b-d47af009a9cd",
   "metadata": {},
   "outputs": [],
   "source": [
    "class CoT(dspy.Module):\n",
    "    def __init__(self):\n",
    "        super().__init__()\n",
    "        self.prog = dspy.ChainOfThought(\"question -> answer\")\n",
    "    \n",
    "    def forward(self, question):\n",
    "        return self.prog(question=question)"
   ]
  },
  {
   "cell_type": "code",
   "execution_count": 25,
   "id": "f2232ffc-452f-4d26-8307-9517aa91fb55",
   "metadata": {},
   "outputs": [],
   "source": [
    "cache_turn_on = os.environ.get('DSP_CACHEBOOL', 'True').lower() != 'false'"
   ]
  },
  {
   "cell_type": "code",
   "execution_count": 26,
   "id": "5779cfeb-5b2b-467f-8511-198fccb9a4f4",
   "metadata": {},
   "outputs": [],
   "source": [
    "#Loading:\n",
    "cot = CoT()\n",
    "cot.load(\"optimized_cot_bestprompter.json\")"
   ]
  },
  {
   "cell_type": "markdown",
   "id": "6f870baf-100b-4709-9646-893c7a3bcdb9",
   "metadata": {},
   "source": [
    "# Default"
   ]
  },
  {
   "cell_type": "code",
   "execution_count": 27,
   "id": "d789ccd1-1071-4d8c-8758-bd7f1b6dd539",
   "metadata": {},
   "outputs": [],
   "source": [
    "result = cot(question=\"What is the fullname of the person in the given document ?\")"
   ]
  },
  {
   "cell_type": "code",
   "execution_count": 28,
   "id": "eda567e2-23d3-4d23-8fb9-e0835e0ffbb1",
   "metadata": {},
   "outputs": [
    {
     "name": "stdout",
     "output_type": "stream",
     "text": [
      "I will carefully read and analyze the given document to identify the person's full name and any other relevant information. Can you please provide the document for me to review?\n"
     ]
    }
   ],
   "source": [
    "# Extract only the answer\n",
    "answer = result.answer\n",
    "\n",
    "# Print the extracted answer\n",
    "print(answer)"
   ]
  },
  {
   "cell_type": "code",
   "execution_count": null,
   "id": "fc813aa0-dd84-41f1-a7c5-c55cac798a91",
   "metadata": {},
   "outputs": [],
   "source": []
  }
 ],
 "metadata": {
  "kernelspec": {
   "display_name": "Python 3 (ipykernel)",
   "language": "python",
   "name": "python3"
  },
  "language_info": {
   "codemirror_mode": {
    "name": "ipython",
    "version": 3
   },
   "file_extension": ".py",
   "mimetype": "text/x-python",
   "name": "python",
   "nbconvert_exporter": "python",
   "pygments_lexer": "ipython3",
   "version": "3.12.2"
  }
 },
 "nbformat": 4,
 "nbformat_minor": 5
}
