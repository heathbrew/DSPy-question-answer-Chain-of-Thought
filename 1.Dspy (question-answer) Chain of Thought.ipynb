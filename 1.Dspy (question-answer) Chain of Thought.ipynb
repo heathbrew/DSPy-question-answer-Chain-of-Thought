{
 "cells": [
  {
   "cell_type": "code",
   "execution_count": 1,
   "id": "3a40fc46-51df-4a79-a35e-24179c3f9875",
   "metadata": {},
   "outputs": [],
   "source": [
    "import os\n",
    "from openaikey import key\n",
    "\n",
    "os.environ[\"OPENAI_API_KEY\"] = str(key())"
   ]
  },
  {
   "cell_type": "code",
   "execution_count": 2,
   "id": "e679e1fe-f9bc-4822-b83b-31aa386a48c9",
   "metadata": {},
   "outputs": [],
   "source": [
    "# !pip install dspy-ai"
   ]
  },
  {
   "cell_type": "code",
   "execution_count": 3,
   "id": "99df29a8-3fd5-46a2-8ae5-3ded77ee281a",
   "metadata": {},
   "outputs": [
    {
     "name": "stderr",
     "output_type": "stream",
     "text": [
      "C:\\Users\\ayush\\Downloads\\Superteams work\\colbertvenv\\Lib\\site-packages\\tqdm\\auto.py:21: TqdmWarning: IProgress not found. Please update jupyter and ipywidgets. See https://ipywidgets.readthedocs.io/en/stable/user_install.html\n",
      "  from .autonotebook import tqdm as notebook_tqdm\n"
     ]
    }
   ],
   "source": [
    "import pandas as pd\n",
    "\n",
    "df = pd.read_csv(\"hf://datasets/fka/awesome-chatgpt-prompts/prompts.csv\")"
   ]
  },
  {
   "cell_type": "code",
   "execution_count": 4,
   "id": "d8f63bd5-bc65-40a3-bc43-f93cb9e61417",
   "metadata": {},
   "outputs": [
    {
     "data": {
      "text/html": [
       "<div>\n",
       "<style scoped>\n",
       "    .dataframe tbody tr th:only-of-type {\n",
       "        vertical-align: middle;\n",
       "    }\n",
       "\n",
       "    .dataframe tbody tr th {\n",
       "        vertical-align: top;\n",
       "    }\n",
       "\n",
       "    .dataframe thead th {\n",
       "        text-align: right;\n",
       "    }\n",
       "</style>\n",
       "<table border=\"1\" class=\"dataframe\">\n",
       "  <thead>\n",
       "    <tr style=\"text-align: right;\">\n",
       "      <th></th>\n",
       "      <th>act</th>\n",
       "      <th>prompt</th>\n",
       "    </tr>\n",
       "  </thead>\n",
       "  <tbody>\n",
       "    <tr>\n",
       "      <th>0</th>\n",
       "      <td>Linux Terminal</td>\n",
       "      <td>I want you to act as a linux terminal. I will ...</td>\n",
       "    </tr>\n",
       "    <tr>\n",
       "      <th>1</th>\n",
       "      <td>English Translator and Improver</td>\n",
       "      <td>I want you to act as an English translator, sp...</td>\n",
       "    </tr>\n",
       "    <tr>\n",
       "      <th>2</th>\n",
       "      <td>`position` Interviewer</td>\n",
       "      <td>I want you to act as an interviewer. I will be...</td>\n",
       "    </tr>\n",
       "    <tr>\n",
       "      <th>3</th>\n",
       "      <td>JavaScript Console</td>\n",
       "      <td>I want you to act as a javascript console. I w...</td>\n",
       "    </tr>\n",
       "    <tr>\n",
       "      <th>4</th>\n",
       "      <td>Excel Sheet</td>\n",
       "      <td>I want you to act as a text based excel. you'l...</td>\n",
       "    </tr>\n",
       "  </tbody>\n",
       "</table>\n",
       "</div>"
      ],
      "text/plain": [
       "                               act  \\\n",
       "0                   Linux Terminal   \n",
       "1  English Translator and Improver   \n",
       "2           `position` Interviewer   \n",
       "3               JavaScript Console   \n",
       "4                      Excel Sheet   \n",
       "\n",
       "                                              prompt  \n",
       "0  I want you to act as a linux terminal. I will ...  \n",
       "1  I want you to act as an English translator, sp...  \n",
       "2  I want you to act as an interviewer. I will be...  \n",
       "3  I want you to act as a javascript console. I w...  \n",
       "4  I want you to act as a text based excel. you'l...  "
      ]
     },
     "execution_count": 4,
     "metadata": {},
     "output_type": "execute_result"
    }
   ],
   "source": [
    "df.head()"
   ]
  },
  {
   "cell_type": "code",
   "execution_count": 5,
   "id": "54da640e-bd7c-4cd7-ad57-d61b0fd82a78",
   "metadata": {},
   "outputs": [
    {
     "data": {
      "text/plain": [
       "(153, 2)"
      ]
     },
     "execution_count": 5,
     "metadata": {},
     "output_type": "execute_result"
    }
   ],
   "source": [
    "df.shape"
   ]
  },
  {
   "cell_type": "code",
   "execution_count": 6,
   "id": "1818cd12-dc12-4a79-9cd6-f5e4a5af389b",
   "metadata": {},
   "outputs": [
    {
     "name": "stdout",
     "output_type": "stream",
     "text": [
      "[Example({'question': 'Linux Terminal', 'gold_reasoning': 'I want you to act as a linux terminal. I will type commands and you will reply with what the terminal should show. I want you to only reply with the terminal output inside one unique code block, and nothing else. do not write explanations. do not type commands unless I instruct you to do so. when i need to tell you something in english, i will do so by putting text inside curly brackets {like this}. my first command is pwd', 'answer': 'I want you to act as a linux terminal. I will type commands and you will reply with what the terminal should show. I want you to only reply with the terminal output inside one unique code block, and nothing else. do not write explanations. do not type commands unless I instruct you to do so. when i need to tell you something in english, i will do so by putting text inside curly brackets {like this}. my first command is pwd'}) (input_keys={'question'}), Example({'question': 'English Translator and Improver', 'gold_reasoning': 'I want you to act as an English translator, spelling corrector and improver. I will speak to you in any language and you will detect the language, translate it and answer in the corrected and improved version of my text, in English. I want you to replace my simplified A0-level words and sentences with more beautiful and elegant, upper level English words and sentences. Keep the meaning same, but make them more literary. I want you to only reply the correction, the improvements and nothing else, do not write explanations. My first sentence is \"istanbulu cok seviyom burada olmak cok guzel\"', 'answer': 'I want you to act as an English translator, spelling corrector and improver. I will speak to you in any language and you will detect the language, translate it and answer in the corrected and improved version of my text, in English. I want you to replace my simplified A0-level words and sentences with more beautiful and elegant, upper level English words and sentences. Keep the meaning same, but make them more literary. I want you to only reply the correction, the improvements and nothing else, do not write explanations. My first sentence is \"istanbulu cok seviyom burada olmak cok guzel\"'}) (input_keys={'question'}), Example({'question': '`position` Interviewer', 'gold_reasoning': 'I want you to act as an interviewer. I will be the candidate and you will ask me the interview questions for the `position` position. I want you to only reply as the interviewer. Do not write all the conservation at once. I want you to only do the interview with me. Ask me the questions and wait for my answers. Do not write explanations. Ask me the questions one by one like an interviewer does and wait for my answers. My first sentence is \"Hi\"', 'answer': 'I want you to act as an interviewer. I will be the candidate and you will ask me the interview questions for the `position` position. I want you to only reply as the interviewer. Do not write all the conservation at once. I want you to only do the interview with me. Ask me the questions and wait for my answers. Do not write explanations. Ask me the questions one by one like an interviewer does and wait for my answers. My first sentence is \"Hi\"'}) (input_keys={'question'})]\n"
     ]
    }
   ],
   "source": [
    "import dspy\n",
    "\n",
    "dataset = []\n",
    "\n",
    "for act, prompt in df.values:\n",
    "    dataset.append(dspy.Example(question=act,gold_reasoning=prompt,answer=prompt).with_inputs(\"question\"))\n",
    "\n",
    "print(dataset[:3])"
   ]
  },
  {
   "cell_type": "code",
   "execution_count": 7,
   "id": "dd7541a8-4d53-47d5-8dcf-6eed3a892d84",
   "metadata": {},
   "outputs": [
    {
     "name": "stdout",
     "output_type": "stream",
     "text": [
      "Train set: [Example({'question': 'Linux Terminal', 'gold_reasoning': 'I want you to act as a linux terminal. I will type commands and you will reply with what the terminal should show. I want you to only reply with the terminal output inside one unique code block, and nothing else. do not write explanations. do not type commands unless I instruct you to do so. when i need to tell you something in english, i will do so by putting text inside curly brackets {like this}. my first command is pwd', 'answer': 'I want you to act as a linux terminal. I will type commands and you will reply with what the terminal should show. I want you to only reply with the terminal output inside one unique code block, and nothing else. do not write explanations. do not type commands unless I instruct you to do so. when i need to tell you something in english, i will do so by putting text inside curly brackets {like this}. my first command is pwd'}) (input_keys={'question'}), Example({'question': 'English Translator and Improver', 'gold_reasoning': 'I want you to act as an English translator, spelling corrector and improver. I will speak to you in any language and you will detect the language, translate it and answer in the corrected and improved version of my text, in English. I want you to replace my simplified A0-level words and sentences with more beautiful and elegant, upper level English words and sentences. Keep the meaning same, but make them more literary. I want you to only reply the correction, the improvements and nothing else, do not write explanations. My first sentence is \"istanbulu cok seviyom burada olmak cok guzel\"', 'answer': 'I want you to act as an English translator, spelling corrector and improver. I will speak to you in any language and you will detect the language, translate it and answer in the corrected and improved version of my text, in English. I want you to replace my simplified A0-level words and sentences with more beautiful and elegant, upper level English words and sentences. Keep the meaning same, but make them more literary. I want you to only reply the correction, the improvements and nothing else, do not write explanations. My first sentence is \"istanbulu cok seviyom burada olmak cok guzel\"'}) (input_keys={'question'}), Example({'question': '`position` Interviewer', 'gold_reasoning': 'I want you to act as an interviewer. I will be the candidate and you will ask me the interview questions for the `position` position. I want you to only reply as the interviewer. Do not write all the conservation at once. I want you to only do the interview with me. Ask me the questions and wait for my answers. Do not write explanations. Ask me the questions one by one like an interviewer does and wait for my answers. My first sentence is \"Hi\"', 'answer': 'I want you to act as an interviewer. I will be the candidate and you will ask me the interview questions for the `position` position. I want you to only reply as the interviewer. Do not write all the conservation at once. I want you to only do the interview with me. Ask me the questions and wait for my answers. Do not write explanations. Ask me the questions one by one like an interviewer does and wait for my answers. My first sentence is \"Hi\"'}) (input_keys={'question'})]\n",
      "Dev set: [Example({'question': 'PHP Interpreter', 'gold_reasoning': 'I want you to act like a php interpreter. I will write you the code and you will respond with the output of the php interpreter. I want you to only reply with the terminal output inside one unique code block, and nothing else. do not write explanations. Do not type commands unless I instruct you to do so. When i need to tell you something in english, i will do so by putting text inside curly brackets {like this}. My first command is \"<?php echo \\'Current PHP version: \\' . phpversion();\"', 'answer': 'I want you to act like a php interpreter. I will write you the code and you will respond with the output of the php interpreter. I want you to only reply with the terminal output inside one unique code block, and nothing else. do not write explanations. Do not type commands unless I instruct you to do so. When i need to tell you something in english, i will do so by putting text inside curly brackets {like this}. My first command is \"<?php echo \\'Current PHP version: \\' . phpversion();\"'}) (input_keys={'question'}), Example({'question': 'Emergency Response Professional', 'gold_reasoning': 'I want you to act as my first aid traffic or house accident emergency response crisis professional. I will describe a traffic or house accident emergency response crisis situation and you will provide advice on how to handle it. You should only reply with your advice, and nothing else. Do not write explanations. My first request is \"My toddler drank a bit of bleach and I am not sure what to do.\"', 'answer': 'I want you to act as my first aid traffic or house accident emergency response crisis professional. I will describe a traffic or house accident emergency response crisis situation and you will provide advice on how to handle it. You should only reply with your advice, and nothing else. Do not write explanations. My first request is \"My toddler drank a bit of bleach and I am not sure what to do.\"'}) (input_keys={'question'}), Example({'question': 'Fill in the Blank Worksheets Generator', 'gold_reasoning': \"I want you to act as a fill in the blank worksheets generator for students learning English as a second language. Your task is to create worksheets with a list of sentences, each with a blank space where a word is missing. The student's task is to fill in the blank with the correct word from a provided list of options. The sentences should be grammatically correct and appropriate for students at an intermediate level of English proficiency. Your worksheets should not include any explanations or additional instructions, just the list of sentences and word options. To get started, please provide me with a list of words and a sentence containing a blank space where one of the words should be inserted.\", 'answer': \"I want you to act as a fill in the blank worksheets generator for students learning English as a second language. Your task is to create worksheets with a list of sentences, each with a blank space where a word is missing. The student's task is to fill in the blank with the correct word from a provided list of options. The sentences should be grammatically correct and appropriate for students at an intermediate level of English proficiency. Your worksheets should not include any explanations or additional instructions, just the list of sentences and word options. To get started, please provide me with a list of words and a sentence containing a blank space where one of the words should be inserted.\"}) (input_keys={'question'})]\n"
     ]
    }
   ],
   "source": [
    "import dspy\n",
    "from dspy.datasets.gsm8k import  gsm8k_metric\n",
    "\n",
    "# Set up the LM.\n",
    "turbo = dspy.OpenAI(model='gpt-3.5-turbo', max_tokens=250)\n",
    "dspy.settings.configure(lm=turbo)\n",
    "\n",
    "# Load math questions from the GSM8K dataset.\n",
    "# Split the dataset into training and dev sets\n",
    "train_size = int(0.8 * len(dataset))  # 80% for training\n",
    "dev_size = len(dataset) - train_size   # Remaining 20% for dev\n",
    "\n",
    "dataset_trainset = dataset[:train_size]\n",
    "dataset_devset = dataset[train_size:]\n",
    "\n",
    "print(\"Train set:\", dataset_trainset[:3])\n",
    "print(\"Dev set:\", dataset_devset[:3])"
   ]
  },
  {
   "cell_type": "code",
   "execution_count": 8,
   "id": "481c8cca-85d8-4ae4-b019-5c6d1d78ac33",
   "metadata": {},
   "outputs": [],
   "source": [
    "# print(dataset_trainset)"
   ]
  },
  {
   "cell_type": "code",
   "execution_count": 9,
   "id": "db5e44b1-fa99-4a11-872f-b6aeffed1fa6",
   "metadata": {},
   "outputs": [],
   "source": [
    "cache_turn_on = os.environ.get('DSP_CACHEBOOL', 'True').lower() != 'false'"
   ]
  },
  {
   "cell_type": "code",
   "execution_count": 10,
   "id": "bd3f7aa5-280c-49a6-8454-8dcbe491cd11",
   "metadata": {},
   "outputs": [],
   "source": [
    "class CoT(dspy.Module):\n",
    "    def __init__(self):\n",
    "        super().__init__()\n",
    "        self.prog = dspy.ChainOfThought(\"question -> answer\")\n",
    "    \n",
    "    def forward(self, question):\n",
    "        return self.prog(question=question)"
   ]
  },
  {
   "cell_type": "code",
   "execution_count": 11,
   "id": "481c012e-08b8-434c-9281-08fc70caeb92",
   "metadata": {},
   "outputs": [
    {
     "name": "stderr",
     "output_type": "stream",
     "text": [
      "  8%|██████████▌                                                                                                                      | 10/122 [00:16<03:04,  1.65s/it]\n"
     ]
    },
    {
     "name": "stdout",
     "output_type": "stream",
     "text": [
      "Bootstrapped 8 full traces after 11 examples in round 0.\n"
     ]
    }
   ],
   "source": [
    "from dspy.teleprompt import BootstrapFewShot\n",
    "\n",
    "# Set up the optimizer: we want to \"bootstrap\" (i.e., self-generate) 4-shot examples of our CoT program.\n",
    "config = dict(max_bootstrapped_demos=8, max_labeled_demos=8)\n",
    "\n",
    "# Optimize! Use the `gsm8k_metric` here. In general, the metric is going to tell the optimizer how well it's doing.\n",
    "teleprompter = BootstrapFewShot(metric=gsm8k_metric, **config)\n",
    "optimized_cot = teleprompter.compile(CoT(), trainset=dataset_trainset)"
   ]
  },
  {
   "cell_type": "code",
   "execution_count": 12,
   "id": "dcc8ec77-40f9-4be8-87f7-7d800e83ddc3",
   "metadata": {},
   "outputs": [],
   "source": [
    "import os\n",
    "from openaikey import key2\n",
    "\n",
    "os.environ[\"OPENAI_API_KEY\"] = str(key2())"
   ]
  },
  {
   "cell_type": "code",
   "execution_count": 13,
   "id": "db0893d1-f0b7-4917-9736-27dfe6321ef9",
   "metadata": {},
   "outputs": [
    {
     "name": "stderr",
     "output_type": "stream",
     "text": [
      "Average Metric: 21 / 31  (67.7): 100%|█████████████████████████████████████████████████████████████████████████████████████████████████| 31/31 [00:05<00:00,  5.37it/s]\n"
     ]
    },
    {
     "data": {
      "text/plain": [
       "67.74"
      ]
     },
     "execution_count": 13,
     "metadata": {},
     "output_type": "execute_result"
    }
   ],
   "source": [
    "from dspy.evaluate import Evaluate\n",
    "\n",
    "# Set up the evaluator, which can be used multiple times.\n",
    "evaluate = Evaluate(devset=dataset_devset, metric=gsm8k_metric, num_threads=10, display_progress=True, display_table=0)\n",
    "\n",
    "# Evaluate our `optimized_cot` program.\n",
    "evaluate(optimized_cot)"
   ]
  },
  {
   "cell_type": "code",
   "execution_count": 14,
   "id": "e364c804-ef9d-480d-aa9c-d9121b14a3f9",
   "metadata": {},
   "outputs": [
    {
     "name": "stdout",
     "output_type": "stream",
     "text": [
      "\n",
      "\n",
      "\n",
      "Given the fields `question`, produce the fields `answer`.\n",
      "\n",
      "---\n",
      "\n",
      "Follow the following format.\n",
      "\n",
      "Question: ${question}\n",
      "Reasoning: Let's think step by step in order to ${produce the answer}. We ...\n",
      "Answer: ${answer}\n",
      "\n",
      "---\n",
      "\n",
      "Question: Linux Terminal\n",
      "Reasoning: Let's think step by step in order to produce the answer. We need to break down the process into clear and concise steps to effectively guide the user through the task at hand.\n",
      "Answer: I will provide you with step-by-step instructions on how to accomplish the specific task in the Linux terminal. Let's start by opening the terminal and executing the following commands to achieve the desired outcome.\n",
      "\n",
      "---\n",
      "\n",
      "Question: English Translator and Improver\n",
      "Reasoning: Let's think step by step in order to produce the answer. We need to translate the given text into English and then improve the translation to make it more accurate and natural.\n",
      "Answer: I want you to act as an English translator and improve the translation. I will provide you with a text in another language, and you will translate it into English and then refine the translation to make it more precise and fluent. My first text is \"Merhaba, Dünya!\"\n",
      "\n",
      "---\n",
      "\n",
      "Question: `position` Interviewer\n",
      "Reasoning: Let's think step by step in order to produce the answer. We need to understand the requirements of the role and the skills and experience needed to excel in this position. By asking specific questions related to the job responsibilities, we can assess the candidate's qualifications and fit for the role.\n",
      "Answer: Can you please provide an example of a challenging situation you faced in a previous role and how you resolved it?\n",
      "\n",
      "---\n",
      "\n",
      "Question: JavaScript Console\n",
      "Reasoning: Let's think step by step in order to produce the answer. We need to consider the requirements of the user and the functionality of the app in order to design a suitable architecture and code for the web app.\n",
      "Answer: I want you to develop a system that allows users to register and save their vehicle information based on their roles, including admin, user, and company roles. The system should use JWT for security.\n",
      "\n",
      "---\n",
      "\n",
      "Question: English Pronunciation Helper\n",
      "Reasoning: Let's think step by step in order to improve your pronunciation. We will focus on the correct pronunciation of words and phrases in English. I will provide you with the word or phrase, and you will repeat it after me, paying attention to the correct pronunciation of each sound. Let's start with the word \"pronunciation.\"\n",
      "Answer: I will provide you with the word or phrase, and you will repeat it after me, paying attention to the correct pronunciation of each sound. Let's start with the word \"pronunciation.\"\n",
      "\n",
      "---\n",
      "\n",
      "Question: Travel Guide\n",
      "Reasoning: Let's think step by step in order to provide a detailed and informative travel guide for the given destination. We need to consider the best attractions, local cuisine, accommodations, transportation options, and any important cultural or safety tips for travelers.\n",
      "Answer: Please provide the destination for which you need a travel guide.\n",
      "\n",
      "---\n",
      "\n",
      "Question: Plagiarism Checker\n",
      "Reasoning: Let's think step by step in order to produce the answer. We need to analyze the text provided and compare it to existing sources to ensure originality and authenticity.\n",
      "Answer: I will check the text for plagiarism by comparing it to various online sources and databases to ensure its uniqueness.\n",
      "\n",
      "---\n",
      "\n",
      "Question: Character from Movie/Book/Anything\n",
      "Reasoning: Let's think step by step in order to produce the answer. We need to analyze the character's traits, background, and actions in order to accurately portray them in a different context or medium.\n",
      "Answer: Can you please provide the name of the character you would like me to analyze and suggest a new context or medium for them?\n",
      "\n",
      "---\n",
      "\n",
      "Question: Muslim imam\n",
      "Reasoning: Let's think step by step in order to produce the answer. We need to consider the responsibilities, qualifications, and duties of a Muslim imam in order to provide accurate information and guidance.\n",
      "Answer: Can you please provide specific questions or topics related to the role of a Muslim imam that you would like me to address?\n",
      "\n",
      "\n",
      "\n"
     ]
    },
    {
     "data": {
      "text/plain": [
       "'\\n\\n\\nGiven the fields `question`, produce the fields `answer`.\\n\\n---\\n\\nFollow the following format.\\n\\nQuestion: ${question}\\nReasoning: Let\\'s think step by step in order to ${produce the answer}. We ...\\nAnswer: ${answer}\\n\\n---\\n\\nQuestion: Linux Terminal\\nReasoning: Let\\'s think step by step in order to produce the answer. We need to break down the process into clear and concise steps to effectively guide the user through the task at hand.\\nAnswer: I will provide you with step-by-step instructions on how to accomplish the specific task in the Linux terminal. Let\\'s start by opening the terminal and executing the following commands to achieve the desired outcome.\\n\\n---\\n\\nQuestion: English Translator and Improver\\nReasoning: Let\\'s think step by step in order to produce the answer. We need to translate the given text into English and then improve the translation to make it more accurate and natural.\\nAnswer: I want you to act as an English translator and improve the translation. I will provide you with a text in another language, and you will translate it into English and then refine the translation to make it more precise and fluent. My first text is \"Merhaba, Dünya!\"\\n\\n---\\n\\nQuestion: `position` Interviewer\\nReasoning: Let\\'s think step by step in order to produce the answer. We need to understand the requirements of the role and the skills and experience needed to excel in this position. By asking specific questions related to the job responsibilities, we can assess the candidate\\'s qualifications and fit for the role.\\nAnswer: Can you please provide an example of a challenging situation you faced in a previous role and how you resolved it?\\n\\n---\\n\\nQuestion: JavaScript Console\\nReasoning: Let\\'s think step by step in order to produce the answer. We need to consider the requirements of the user and the functionality of the app in order to design a suitable architecture and code for the web app.\\nAnswer: I want you to develop a system that allows users to register and save their vehicle information based on their roles, including admin, user, and company roles. The system should use JWT for security.\\n\\n---\\n\\nQuestion: English Pronunciation Helper\\nReasoning: Let\\'s think step by step in order to improve your pronunciation. We will focus on the correct pronunciation of words and phrases in English. I will provide you with the word or phrase, and you will repeat it after me, paying attention to the correct pronunciation of each sound. Let\\'s start with the word \"pronunciation.\"\\nAnswer: I will provide you with the word or phrase, and you will repeat it after me, paying attention to the correct pronunciation of each sound. Let\\'s start with the word \"pronunciation.\"\\n\\n---\\n\\nQuestion: Travel Guide\\nReasoning: Let\\'s think step by step in order to provide a detailed and informative travel guide for the given destination. We need to consider the best attractions, local cuisine, accommodations, transportation options, and any important cultural or safety tips for travelers.\\nAnswer: Please provide the destination for which you need a travel guide.\\n\\n---\\n\\nQuestion: Plagiarism Checker\\nReasoning: Let\\'s think step by step in order to produce the answer. We need to analyze the text provided and compare it to existing sources to ensure originality and authenticity.\\nAnswer: I will check the text for plagiarism by comparing it to various online sources and databases to ensure its uniqueness.\\n\\n---\\n\\nQuestion: Character from Movie/Book/Anything\\nReasoning: Let\\'s think step by step in order to produce the answer. We need to analyze the character\\'s traits, background, and actions in order to accurately portray them in a different context or medium.\\nAnswer: Can you please provide the name of the character you would like me to analyze and suggest a new context or medium for them?\\n\\n---\\n\\nQuestion: Muslim imam\\nReasoning: Let\\'s think step by step in order to\\x1b[32m produce the answer. We need to consider the responsibilities, qualifications, and duties of a Muslim imam in order to provide accurate information and guidance.\\nAnswer: Can you please provide specific questions or topics related to the role of a Muslim imam that you would like me to address?\\x1b[0m\\n\\n\\n'"
      ]
     },
     "execution_count": 14,
     "metadata": {},
     "output_type": "execute_result"
    }
   ],
   "source": [
    "turbo.inspect_history(n=1)"
   ]
  },
  {
   "cell_type": "code",
   "execution_count": 18,
   "id": "fae6c1af-c8ae-4f24-9a6f-1ffa2654f001",
   "metadata": {},
   "outputs": [],
   "source": [
    "result = optimized_cot(question=\"What is the fullname of the person in the given document ?\")"
   ]
  },
  {
   "cell_type": "code",
   "execution_count": 19,
   "id": "a7d01de9-b2bc-4363-9f6a-214a1310dfbd",
   "metadata": {},
   "outputs": [
    {
     "name": "stdout",
     "output_type": "stream",
     "text": [
      "I will carefully review the document you provided and extract the person's full name based on the information available. Let's start by analyzing the document to identify and confirm the individual's complete name.\n"
     ]
    }
   ],
   "source": [
    "# Extract only the answer\n",
    "answer = result.answer\n",
    "\n",
    "# Print the extracted answer\n",
    "print(answer)"
   ]
  },
  {
   "cell_type": "code",
   "execution_count": 20,
   "id": "aee898ac-b622-4832-8498-41eeb65ee4dc",
   "metadata": {},
   "outputs": [
    {
     "name": "stdout",
     "output_type": "stream",
     "text": [
      "[('prog', Predict(StringSignature(question -> rationale, answer\n",
      "    instructions='Given the fields `question`, produce the fields `answer`.'\n",
      "    question = Field(annotation=str required=True json_schema_extra={'__dspy_field_type': 'input', 'prefix': 'Question:', 'desc': '${question}'})\n",
      "    rationale = Field(annotation=str required=True json_schema_extra={'prefix': \"Reasoning: Let's think step by step in order to\", 'desc': '${produce the answer}. We ...', '__dspy_field_type': 'output'})\n",
      "    answer = Field(annotation=str required=True json_schema_extra={'__dspy_field_type': 'output', 'prefix': 'Answer:', 'desc': '${answer}'})\n",
      ")))]\n"
     ]
    }
   ],
   "source": [
    "optimized_cot.save(\"optimized_cot_bestprompter.json\")"
   ]
  },
  {
   "cell_type": "code",
   "execution_count": null,
   "id": "ce8c0df9-5c10-456b-b586-69751bef48e2",
   "metadata": {},
   "outputs": [],
   "source": []
  }
 ],
 "metadata": {
  "kernelspec": {
   "display_name": "Python 3 (ipykernel)",
   "language": "python",
   "name": "python3"
  },
  "language_info": {
   "codemirror_mode": {
    "name": "ipython",
    "version": 3
   },
   "file_extension": ".py",
   "mimetype": "text/x-python",
   "name": "python",
   "nbconvert_exporter": "python",
   "pygments_lexer": "ipython3",
   "version": "3.12.2"
  }
 },
 "nbformat": 4,
 "nbformat_minor": 5
}
